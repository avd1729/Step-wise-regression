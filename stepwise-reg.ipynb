{
 "cells": [
  {
   "cell_type": "markdown",
   "id": "ba9e83ca",
   "metadata": {
    "papermill": {
     "duration": 0.005732,
     "end_time": "2023-06-08T16:40:31.504300",
     "exception": false,
     "start_time": "2023-06-08T16:40:31.498568",
     "status": "completed"
    },
    "tags": []
   },
   "source": [
    "# **Step-Wise Regression**"
   ]
  },
  {
   "cell_type": "code",
   "execution_count": 1,
   "id": "e84c2a65",
   "metadata": {
    "execution": {
     "iopub.execute_input": "2023-06-08T16:40:31.516754Z",
     "iopub.status.busy": "2023-06-08T16:40:31.516212Z",
     "iopub.status.idle": "2023-06-08T16:40:31.531779Z",
     "shell.execute_reply": "2023-06-08T16:40:31.530390Z"
    },
    "papermill": {
     "duration": 0.024748,
     "end_time": "2023-06-08T16:40:31.534275",
     "exception": false,
     "start_time": "2023-06-08T16:40:31.509527",
     "status": "completed"
    },
    "tags": []
   },
   "outputs": [],
   "source": [
    "import numpy as np\n",
    "import pandas as pd"
   ]
  },
  {
   "cell_type": "code",
   "execution_count": 2,
   "id": "23319370",
   "metadata": {
    "execution": {
     "iopub.execute_input": "2023-06-08T16:40:31.548142Z",
     "iopub.status.busy": "2023-06-08T16:40:31.546786Z",
     "iopub.status.idle": "2023-06-08T16:40:33.187560Z",
     "shell.execute_reply": "2023-06-08T16:40:33.186149Z"
    },
    "papermill": {
     "duration": 1.650944,
     "end_time": "2023-06-08T16:40:33.190433",
     "exception": false,
     "start_time": "2023-06-08T16:40:31.539489",
     "status": "completed"
    },
    "tags": []
   },
   "outputs": [],
   "source": [
    "from sklearn.datasets import load_diabetes\n",
    "data = load_diabetes()"
   ]
  },
  {
   "cell_type": "code",
   "execution_count": 3,
   "id": "2965e08a",
   "metadata": {
    "execution": {
     "iopub.execute_input": "2023-06-08T16:40:33.203079Z",
     "iopub.status.busy": "2023-06-08T16:40:33.202581Z",
     "iopub.status.idle": "2023-06-08T16:40:33.210793Z",
     "shell.execute_reply": "2023-06-08T16:40:33.209912Z"
    },
    "papermill": {
     "duration": 0.017669,
     "end_time": "2023-06-08T16:40:33.213361",
     "exception": false,
     "start_time": "2023-06-08T16:40:33.195692",
     "status": "completed"
    },
    "tags": []
   },
   "outputs": [
    {
     "data": {
      "text/plain": [
       "dict_keys(['data', 'target', 'frame', 'DESCR', 'feature_names', 'data_filename', 'target_filename', 'data_module'])"
      ]
     },
     "execution_count": 3,
     "metadata": {},
     "output_type": "execute_result"
    }
   ],
   "source": [
    "data.keys()"
   ]
  },
  {
   "cell_type": "code",
   "execution_count": 4,
   "id": "7976b26b",
   "metadata": {
    "execution": {
     "iopub.execute_input": "2023-06-08T16:40:33.226808Z",
     "iopub.status.busy": "2023-06-08T16:40:33.225745Z",
     "iopub.status.idle": "2023-06-08T16:40:33.455930Z",
     "shell.execute_reply": "2023-06-08T16:40:33.454671Z"
    },
    "papermill": {
     "duration": 0.240406,
     "end_time": "2023-06-08T16:40:33.459121",
     "exception": false,
     "start_time": "2023-06-08T16:40:33.218715",
     "status": "completed"
    },
    "tags": []
   },
   "outputs": [],
   "source": [
    "from sklearn.linear_model import LinearRegression\n",
    "from sklearn.metrics import r2_score\n",
    "from sklearn.model_selection import train_test_split"
   ]
  },
  {
   "cell_type": "code",
   "execution_count": 5,
   "id": "f2ab900f",
   "metadata": {
    "execution": {
     "iopub.execute_input": "2023-06-08T16:40:33.473126Z",
     "iopub.status.busy": "2023-06-08T16:40:33.472366Z",
     "iopub.status.idle": "2023-06-08T16:40:33.477982Z",
     "shell.execute_reply": "2023-06-08T16:40:33.476806Z"
    },
    "papermill": {
     "duration": 0.016236,
     "end_time": "2023-06-08T16:40:33.481006",
     "exception": false,
     "start_time": "2023-06-08T16:40:33.464770",
     "status": "completed"
    },
    "tags": []
   },
   "outputs": [],
   "source": [
    "r2_scores = {}"
   ]
  },
  {
   "cell_type": "code",
   "execution_count": 6,
   "id": "459bc7dc",
   "metadata": {
    "execution": {
     "iopub.execute_input": "2023-06-08T16:40:33.494080Z",
     "iopub.status.busy": "2023-06-08T16:40:33.493572Z",
     "iopub.status.idle": "2023-06-08T16:40:33.539377Z",
     "shell.execute_reply": "2023-06-08T16:40:33.537932Z"
    },
    "papermill": {
     "duration": 0.05606,
     "end_time": "2023-06-08T16:40:33.542606",
     "exception": false,
     "start_time": "2023-06-08T16:40:33.486546",
     "status": "completed"
    },
    "tags": []
   },
   "outputs": [],
   "source": [
    "for feature in range (len(data.feature_names)):\n",
    "    X = data.data[:,feature]\n",
    "    y = data.target\n",
    "    X_train , X_test , y_train , y_test = train_test_split(X ,y , test_size=0.25 , random_state=42)\n",
    "    X_train = np.array(X_train).reshape(-1, 1)\n",
    "    X_test = np.array(X_test).reshape(-1, 1)\n",
    "    reg = LinearRegression()\n",
    "    reg.fit(X_train , y_train)\n",
    "    y_pred = reg.predict(X_test)\n",
    "    r2 = r2_score(y_test , y_pred)\n",
    "    r2_scores.update({f\"{feature}\": f\"{r2}\"})"
   ]
  },
  {
   "cell_type": "code",
   "execution_count": 7,
   "id": "e83b6553",
   "metadata": {
    "execution": {
     "iopub.execute_input": "2023-06-08T16:40:33.557334Z",
     "iopub.status.busy": "2023-06-08T16:40:33.556883Z",
     "iopub.status.idle": "2023-06-08T16:40:33.563582Z",
     "shell.execute_reply": "2023-06-08T16:40:33.562661Z"
    },
    "papermill": {
     "duration": 0.016163,
     "end_time": "2023-06-08T16:40:33.565996",
     "exception": false,
     "start_time": "2023-06-08T16:40:33.549833",
     "status": "completed"
    },
    "tags": []
   },
   "outputs": [
    {
     "data": {
      "text/plain": [
       "{'0': '0.008637038226036675',\n",
       " '1': '-0.01029825562499287',\n",
       " '2': '0.3172099449537781',\n",
       " '3': '0.18471383018307064',\n",
       " '4': '0.06626553266368607',\n",
       " '5': '0.04163111831069033',\n",
       " '6': '0.1377356557444941',\n",
       " '7': '0.19257590747667053',\n",
       " '8': '0.4215743297548834',\n",
       " '9': '0.16593419294983636'}"
      ]
     },
     "execution_count": 7,
     "metadata": {},
     "output_type": "execute_result"
    }
   ],
   "source": [
    "r2_scores"
   ]
  },
  {
   "cell_type": "code",
   "execution_count": 8,
   "id": "6b1f0a32",
   "metadata": {
    "execution": {
     "iopub.execute_input": "2023-06-08T16:40:33.580156Z",
     "iopub.status.busy": "2023-06-08T16:40:33.578966Z",
     "iopub.status.idle": "2023-06-08T16:40:33.586855Z",
     "shell.execute_reply": "2023-06-08T16:40:33.585346Z"
    },
    "papermill": {
     "duration": 0.018021,
     "end_time": "2023-06-08T16:40:33.589766",
     "exception": false,
     "start_time": "2023-06-08T16:40:33.571745",
     "status": "completed"
    },
    "tags": []
   },
   "outputs": [
    {
     "name": "stdout",
     "output_type": "stream",
     "text": [
      "('8', '0.4215743297548834')\n",
      "('2', '0.3172099449537781')\n",
      "('7', '0.19257590747667053')\n",
      "('3', '0.18471383018307064')\n",
      "('9', '0.16593419294983636')\n",
      "('6', '0.1377356557444941')\n",
      "('4', '0.06626553266368607')\n",
      "('5', '0.04163111831069033')\n",
      "('0', '0.008637038226036675')\n",
      "('1', '-0.01029825562499287')\n"
     ]
    }
   ],
   "source": [
    "sorted_dict = sorted(r2_scores.items(), key=lambda x:x[1] , reverse=True)\n",
    "for feature in sorted_dict:\n",
    "    print(feature)\n"
   ]
  },
  {
   "cell_type": "code",
   "execution_count": 9,
   "id": "9ca3e2ad",
   "metadata": {
    "execution": {
     "iopub.execute_input": "2023-06-08T16:40:33.603980Z",
     "iopub.status.busy": "2023-06-08T16:40:33.603569Z",
     "iopub.status.idle": "2023-06-08T16:40:33.609839Z",
     "shell.execute_reply": "2023-06-08T16:40:33.608620Z"
    },
    "papermill": {
     "duration": 0.016549,
     "end_time": "2023-06-08T16:40:33.612648",
     "exception": false,
     "start_time": "2023-06-08T16:40:33.596099",
     "status": "completed"
    },
    "tags": []
   },
   "outputs": [],
   "source": [
    "feature_idx = [8,2,7,3,9,6,4,5,0,1]"
   ]
  },
  {
   "cell_type": "code",
   "execution_count": 10,
   "id": "ca8507f3",
   "metadata": {
    "execution": {
     "iopub.execute_input": "2023-06-08T16:40:33.626596Z",
     "iopub.status.busy": "2023-06-08T16:40:33.626201Z",
     "iopub.status.idle": "2023-06-08T16:40:33.657042Z",
     "shell.execute_reply": "2023-06-08T16:40:33.655364Z"
    },
    "papermill": {
     "duration": 0.041436,
     "end_time": "2023-06-08T16:40:33.660203",
     "exception": false,
     "start_time": "2023-06-08T16:40:33.618767",
     "status": "completed"
    },
    "tags": []
   },
   "outputs": [],
   "source": [
    "data = load_diabetes(as_frame=True)"
   ]
  },
  {
   "cell_type": "code",
   "execution_count": 11,
   "id": "bf53e2f3",
   "metadata": {
    "execution": {
     "iopub.execute_input": "2023-06-08T16:40:33.675101Z",
     "iopub.status.busy": "2023-06-08T16:40:33.674623Z",
     "iopub.status.idle": "2023-06-08T16:40:33.681632Z",
     "shell.execute_reply": "2023-06-08T16:40:33.680038Z"
    },
    "papermill": {
     "duration": 0.01805,
     "end_time": "2023-06-08T16:40:33.684646",
     "exception": false,
     "start_time": "2023-06-08T16:40:33.666596",
     "status": "completed"
    },
    "tags": []
   },
   "outputs": [],
   "source": [
    "selected_features = data.data.iloc[:, [8,2]]\n",
    "X = selected_features.values\n",
    "y = data.target"
   ]
  },
  {
   "cell_type": "code",
   "execution_count": 12,
   "id": "ad81f573",
   "metadata": {
    "execution": {
     "iopub.execute_input": "2023-06-08T16:40:33.698736Z",
     "iopub.status.busy": "2023-06-08T16:40:33.698049Z",
     "iopub.status.idle": "2023-06-08T16:40:33.717053Z",
     "shell.execute_reply": "2023-06-08T16:40:33.715356Z"
    },
    "papermill": {
     "duration": 0.029165,
     "end_time": "2023-06-08T16:40:33.719757",
     "exception": false,
     "start_time": "2023-06-08T16:40:33.690592",
     "status": "completed"
    },
    "tags": []
   },
   "outputs": [
    {
     "name": "stdout",
     "output_type": "stream",
     "text": [
      "R2 score after combining : 0.5112943322988956\n"
     ]
    }
   ],
   "source": [
    "X_train , X_test , y_train , y_test = train_test_split(X ,y , test_size=0.25 , random_state=42)\n",
    "reg = LinearRegression()\n",
    "reg.fit(X_train , y_train)\n",
    "y_pred = reg.predict(X_test)\n",
    "r2 = r2_score(y_test , y_pred)\n",
    "print(f\"R2 score after combining : {r2}\")"
   ]
  },
  {
   "cell_type": "code",
   "execution_count": 13,
   "id": "3c06e589",
   "metadata": {
    "execution": {
     "iopub.execute_input": "2023-06-08T16:40:33.733595Z",
     "iopub.status.busy": "2023-06-08T16:40:33.733133Z",
     "iopub.status.idle": "2023-06-08T16:40:33.746817Z",
     "shell.execute_reply": "2023-06-08T16:40:33.745488Z"
    },
    "papermill": {
     "duration": 0.023862,
     "end_time": "2023-06-08T16:40:33.749417",
     "exception": false,
     "start_time": "2023-06-08T16:40:33.725555",
     "status": "completed"
    },
    "tags": []
   },
   "outputs": [
    {
     "name": "stdout",
     "output_type": "stream",
     "text": [
      "R2 score after combining : 0.5107349369399403\n"
     ]
    }
   ],
   "source": [
    "selected_features = data.data.iloc[:, [8,2,7]]\n",
    "X = selected_features.values\n",
    "y = data.target\n",
    "X_train , X_test , y_train , y_test = train_test_split(X ,y , test_size=0.25 , random_state=42)\n",
    "reg = LinearRegression()\n",
    "reg.fit(X_train , y_train)\n",
    "y_pred = reg.predict(X_test)\n",
    "r2 = r2_score(y_test , y_pred)\n",
    "print(f\"R2 score after combining : {r2}\")"
   ]
  }
 ],
 "metadata": {
  "kernelspec": {
   "display_name": "Python 3",
   "language": "python",
   "name": "python3"
  },
  "language_info": {
   "codemirror_mode": {
    "name": "ipython",
    "version": 3
   },
   "file_extension": ".py",
   "mimetype": "text/x-python",
   "name": "python",
   "nbconvert_exporter": "python",
   "pygments_lexer": "ipython3",
   "version": "3.10.10"
  },
  "papermill": {
   "default_parameters": {},
   "duration": 17.623768,
   "end_time": "2023-06-08T16:40:35.183211",
   "environment_variables": {},
   "exception": null,
   "input_path": "__notebook__.ipynb",
   "output_path": "__notebook__.ipynb",
   "parameters": {},
   "start_time": "2023-06-08T16:40:17.559443",
   "version": "2.4.0"
  }
 },
 "nbformat": 4,
 "nbformat_minor": 5
}
