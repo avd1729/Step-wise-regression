{
 "cells": [
  {
   "cell_type": "markdown",
   "id": "e785230f",
   "metadata": {
    "papermill": {
     "duration": 0.006642,
     "end_time": "2023-06-08T16:53:36.290787",
     "exception": false,
     "start_time": "2023-06-08T16:53:36.284145",
     "status": "completed"
    },
    "tags": []
   },
   "source": [
    "# **Step-Wise Regression**"
   ]
  },
  {
   "cell_type": "code",
   "execution_count": 1,
   "id": "f438ae88",
   "metadata": {
    "execution": {
     "iopub.execute_input": "2023-06-08T16:53:36.305436Z",
     "iopub.status.busy": "2023-06-08T16:53:36.304786Z",
     "iopub.status.idle": "2023-06-08T16:53:36.313175Z",
     "shell.execute_reply": "2023-06-08T16:53:36.312388Z"
    },
    "papermill": {
     "duration": 0.018045,
     "end_time": "2023-06-08T16:53:36.315315",
     "exception": false,
     "start_time": "2023-06-08T16:53:36.297270",
     "status": "completed"
    },
    "tags": []
   },
   "outputs": [],
   "source": [
    "import numpy as np\n",
    "import pandas as pd"
   ]
  },
  {
   "cell_type": "code",
   "execution_count": 2,
   "id": "38e9e44c",
   "metadata": {
    "execution": {
     "iopub.execute_input": "2023-06-08T16:53:36.329900Z",
     "iopub.status.busy": "2023-06-08T16:53:36.329517Z",
     "iopub.status.idle": "2023-06-08T16:53:37.734086Z",
     "shell.execute_reply": "2023-06-08T16:53:37.733043Z"
    },
    "papermill": {
     "duration": 1.415149,
     "end_time": "2023-06-08T16:53:37.736764",
     "exception": false,
     "start_time": "2023-06-08T16:53:36.321615",
     "status": "completed"
    },
    "tags": []
   },
   "outputs": [],
   "source": [
    "from sklearn.datasets import load_diabetes\n",
    "data = load_diabetes()"
   ]
  },
  {
   "cell_type": "code",
   "execution_count": 3,
   "id": "eb9fdf78",
   "metadata": {
    "execution": {
     "iopub.execute_input": "2023-06-08T16:53:37.752786Z",
     "iopub.status.busy": "2023-06-08T16:53:37.752408Z",
     "iopub.status.idle": "2023-06-08T16:53:37.759795Z",
     "shell.execute_reply": "2023-06-08T16:53:37.758782Z"
    },
    "papermill": {
     "duration": 0.018502,
     "end_time": "2023-06-08T16:53:37.761846",
     "exception": false,
     "start_time": "2023-06-08T16:53:37.743344",
     "status": "completed"
    },
    "tags": []
   },
   "outputs": [
    {
     "data": {
      "text/plain": [
       "dict_keys(['data', 'target', 'frame', 'DESCR', 'feature_names', 'data_filename', 'target_filename', 'data_module'])"
      ]
     },
     "execution_count": 3,
     "metadata": {},
     "output_type": "execute_result"
    }
   ],
   "source": [
    "data.keys()"
   ]
  },
  {
   "cell_type": "code",
   "execution_count": 4,
   "id": "384c24f8",
   "metadata": {
    "execution": {
     "iopub.execute_input": "2023-06-08T16:53:37.776394Z",
     "iopub.status.busy": "2023-06-08T16:53:37.776006Z",
     "iopub.status.idle": "2023-06-08T16:53:37.968716Z",
     "shell.execute_reply": "2023-06-08T16:53:37.967749Z"
    },
    "papermill": {
     "duration": 0.202934,
     "end_time": "2023-06-08T16:53:37.971147",
     "exception": false,
     "start_time": "2023-06-08T16:53:37.768213",
     "status": "completed"
    },
    "tags": []
   },
   "outputs": [],
   "source": [
    "from sklearn.linear_model import LinearRegression\n",
    "from sklearn.metrics import r2_score\n",
    "from sklearn.model_selection import train_test_split"
   ]
  },
  {
   "cell_type": "code",
   "execution_count": 5,
   "id": "e36c5795",
   "metadata": {
    "execution": {
     "iopub.execute_input": "2023-06-08T16:53:37.986146Z",
     "iopub.status.busy": "2023-06-08T16:53:37.985746Z",
     "iopub.status.idle": "2023-06-08T16:53:37.990459Z",
     "shell.execute_reply": "2023-06-08T16:53:37.989306Z"
    },
    "papermill": {
     "duration": 0.014617,
     "end_time": "2023-06-08T16:53:37.992578",
     "exception": false,
     "start_time": "2023-06-08T16:53:37.977961",
     "status": "completed"
    },
    "tags": []
   },
   "outputs": [],
   "source": [
    "r2_scores = {}"
   ]
  },
  {
   "cell_type": "code",
   "execution_count": 6,
   "id": "b476f57a",
   "metadata": {
    "execution": {
     "iopub.execute_input": "2023-06-08T16:53:38.007133Z",
     "iopub.status.busy": "2023-06-08T16:53:38.006318Z",
     "iopub.status.idle": "2023-06-08T16:53:38.046705Z",
     "shell.execute_reply": "2023-06-08T16:53:38.045500Z"
    },
    "papermill": {
     "duration": 0.05035,
     "end_time": "2023-06-08T16:53:38.049228",
     "exception": false,
     "start_time": "2023-06-08T16:53:37.998878",
     "status": "completed"
    },
    "tags": []
   },
   "outputs": [],
   "source": [
    "for feature in range (len(data.feature_names)):\n",
    "    X = data.data[:,feature]\n",
    "    y = data.target\n",
    "    X_train , X_test , y_train , y_test = train_test_split(X ,y , test_size=0.25 , random_state=42)\n",
    "    X_train = np.array(X_train).reshape(-1, 1)\n",
    "    X_test = np.array(X_test).reshape(-1, 1)\n",
    "    reg = LinearRegression()\n",
    "    reg.fit(X_train , y_train)\n",
    "    y_pred = reg.predict(X_test)\n",
    "    r2 = r2_score(y_test , y_pred)\n",
    "    r2_scores.update({f\"{feature}\": f\"{r2}\"})"
   ]
  },
  {
   "cell_type": "code",
   "execution_count": 7,
   "id": "ecd964e7",
   "metadata": {
    "execution": {
     "iopub.execute_input": "2023-06-08T16:53:38.064292Z",
     "iopub.status.busy": "2023-06-08T16:53:38.063485Z",
     "iopub.status.idle": "2023-06-08T16:53:38.070183Z",
     "shell.execute_reply": "2023-06-08T16:53:38.069426Z"
    },
    "papermill": {
     "duration": 0.016271,
     "end_time": "2023-06-08T16:53:38.071959",
     "exception": false,
     "start_time": "2023-06-08T16:53:38.055688",
     "status": "completed"
    },
    "tags": []
   },
   "outputs": [
    {
     "data": {
      "text/plain": [
       "{'0': '0.008637038226036675',\n",
       " '1': '-0.01029825562499287',\n",
       " '2': '0.3172099449537781',\n",
       " '3': '0.18471383018307064',\n",
       " '4': '0.06626553266368607',\n",
       " '5': '0.04163111831069033',\n",
       " '6': '0.1377356557444941',\n",
       " '7': '0.19257590747667053',\n",
       " '8': '0.4215743297548834',\n",
       " '9': '0.16593419294983636'}"
      ]
     },
     "execution_count": 7,
     "metadata": {},
     "output_type": "execute_result"
    }
   ],
   "source": [
    "r2_scores"
   ]
  },
  {
   "cell_type": "code",
   "execution_count": 8,
   "id": "c6fdbeb6",
   "metadata": {
    "execution": {
     "iopub.execute_input": "2023-06-08T16:53:38.087176Z",
     "iopub.status.busy": "2023-06-08T16:53:38.086755Z",
     "iopub.status.idle": "2023-06-08T16:53:38.093174Z",
     "shell.execute_reply": "2023-06-08T16:53:38.092324Z"
    },
    "papermill": {
     "duration": 0.018269,
     "end_time": "2023-06-08T16:53:38.096655",
     "exception": false,
     "start_time": "2023-06-08T16:53:38.078386",
     "status": "completed"
    },
    "tags": []
   },
   "outputs": [
    {
     "name": "stdout",
     "output_type": "stream",
     "text": [
      "('8', '0.4215743297548834')\n",
      "('2', '0.3172099449537781')\n",
      "('7', '0.19257590747667053')\n",
      "('3', '0.18471383018307064')\n",
      "('9', '0.16593419294983636')\n",
      "('6', '0.1377356557444941')\n",
      "('4', '0.06626553266368607')\n",
      "('5', '0.04163111831069033')\n",
      "('0', '0.008637038226036675')\n",
      "('1', '-0.01029825562499287')\n"
     ]
    }
   ],
   "source": [
    "sorted_dict = sorted(r2_scores.items(), key=lambda x:x[1] , reverse=True)\n",
    "for feature in sorted_dict:\n",
    "    print(feature)\n"
   ]
  },
  {
   "cell_type": "code",
   "execution_count": 9,
   "id": "ab629185",
   "metadata": {
    "execution": {
     "iopub.execute_input": "2023-06-08T16:53:38.115794Z",
     "iopub.status.busy": "2023-06-08T16:53:38.114555Z",
     "iopub.status.idle": "2023-06-08T16:53:38.120037Z",
     "shell.execute_reply": "2023-06-08T16:53:38.119124Z"
    },
    "papermill": {
     "duration": 0.016919,
     "end_time": "2023-06-08T16:53:38.122079",
     "exception": false,
     "start_time": "2023-06-08T16:53:38.105160",
     "status": "completed"
    },
    "tags": []
   },
   "outputs": [],
   "source": [
    "feature_idx = [8,2,7,3,9,6,4,5,0,1]"
   ]
  },
  {
   "cell_type": "code",
   "execution_count": 10,
   "id": "60a60824",
   "metadata": {
    "execution": {
     "iopub.execute_input": "2023-06-08T16:53:38.137714Z",
     "iopub.status.busy": "2023-06-08T16:53:38.136900Z",
     "iopub.status.idle": "2023-06-08T16:53:38.161666Z",
     "shell.execute_reply": "2023-06-08T16:53:38.160580Z"
    },
    "papermill": {
     "duration": 0.035458,
     "end_time": "2023-06-08T16:53:38.164221",
     "exception": false,
     "start_time": "2023-06-08T16:53:38.128763",
     "status": "completed"
    },
    "tags": []
   },
   "outputs": [],
   "source": [
    "data = load_diabetes(as_frame=True)"
   ]
  },
  {
   "cell_type": "markdown",
   "id": "6d6529d7",
   "metadata": {
    "papermill": {
     "duration": 0.00626,
     "end_time": "2023-06-08T16:53:38.177116",
     "exception": false,
     "start_time": "2023-06-08T16:53:38.170856",
     "status": "completed"
    },
    "tags": []
   },
   "source": [
    "# **Forward-Selection**"
   ]
  },
  {
   "cell_type": "code",
   "execution_count": 11,
   "id": "7a574a3c",
   "metadata": {
    "execution": {
     "iopub.execute_input": "2023-06-08T16:53:38.191665Z",
     "iopub.status.busy": "2023-06-08T16:53:38.191259Z",
     "iopub.status.idle": "2023-06-08T16:53:38.197342Z",
     "shell.execute_reply": "2023-06-08T16:53:38.196162Z"
    },
    "papermill": {
     "duration": 0.016098,
     "end_time": "2023-06-08T16:53:38.199602",
     "exception": false,
     "start_time": "2023-06-08T16:53:38.183504",
     "status": "completed"
    },
    "tags": []
   },
   "outputs": [],
   "source": [
    "selected_features = data.data.iloc[:, [8,2]]\n",
    "X = selected_features.values\n",
    "y = data.target"
   ]
  },
  {
   "cell_type": "code",
   "execution_count": 12,
   "id": "8b3f70e5",
   "metadata": {
    "execution": {
     "iopub.execute_input": "2023-06-08T16:53:38.214242Z",
     "iopub.status.busy": "2023-06-08T16:53:38.213879Z",
     "iopub.status.idle": "2023-06-08T16:53:38.230333Z",
     "shell.execute_reply": "2023-06-08T16:53:38.229066Z"
    },
    "papermill": {
     "duration": 0.026415,
     "end_time": "2023-06-08T16:53:38.232573",
     "exception": false,
     "start_time": "2023-06-08T16:53:38.206158",
     "status": "completed"
    },
    "tags": []
   },
   "outputs": [
    {
     "name": "stdout",
     "output_type": "stream",
     "text": [
      "R2 score after combining : 0.5112943322988956\n"
     ]
    }
   ],
   "source": [
    "X_train , X_test , y_train , y_test = train_test_split(X ,y , test_size=0.25 , random_state=42)\n",
    "reg = LinearRegression()\n",
    "reg.fit(X_train , y_train)\n",
    "y_pred = reg.predict(X_test)\n",
    "r2 = r2_score(y_test , y_pred)\n",
    "print(f\"R2 score after combining : {r2}\")"
   ]
  },
  {
   "cell_type": "code",
   "execution_count": 13,
   "id": "84a71a7b",
   "metadata": {
    "execution": {
     "iopub.execute_input": "2023-06-08T16:53:38.247831Z",
     "iopub.status.busy": "2023-06-08T16:53:38.247461Z",
     "iopub.status.idle": "2023-06-08T16:53:38.258725Z",
     "shell.execute_reply": "2023-06-08T16:53:38.257565Z"
    },
    "papermill": {
     "duration": 0.021531,
     "end_time": "2023-06-08T16:53:38.260731",
     "exception": false,
     "start_time": "2023-06-08T16:53:38.239200",
     "status": "completed"
    },
    "tags": []
   },
   "outputs": [
    {
     "name": "stdout",
     "output_type": "stream",
     "text": [
      "R2 score after combining : 0.5107349369399403\n"
     ]
    }
   ],
   "source": [
    "selected_features = data.data.iloc[:, [8,2,7]]\n",
    "X = selected_features.values\n",
    "y = data.target\n",
    "X_train , X_test , y_train , y_test = train_test_split(X ,y , test_size=0.25 , random_state=42)\n",
    "reg = LinearRegression()\n",
    "reg.fit(X_train , y_train)\n",
    "y_pred = reg.predict(X_test)\n",
    "r2 = r2_score(y_test , y_pred)\n",
    "print(f\"R2 score after combining : {r2}\")"
   ]
  },
  {
   "cell_type": "code",
   "execution_count": 14,
   "id": "8d8586d8",
   "metadata": {
    "execution": {
     "iopub.execute_input": "2023-06-08T16:53:38.276112Z",
     "iopub.status.busy": "2023-06-08T16:53:38.275531Z",
     "iopub.status.idle": "2023-06-08T16:53:38.285118Z",
     "shell.execute_reply": "2023-06-08T16:53:38.284062Z"
    },
    "papermill": {
     "duration": 0.020012,
     "end_time": "2023-06-08T16:53:38.287387",
     "exception": false,
     "start_time": "2023-06-08T16:53:38.267375",
     "status": "completed"
    },
    "tags": []
   },
   "outputs": [
    {
     "name": "stdout",
     "output_type": "stream",
     "text": [
      "R2 score after combining : 0.49776129259653035\n"
     ]
    }
   ],
   "source": [
    "selected_features = data.data.iloc[:, [8,2,7,3]]\n",
    "X = selected_features.values\n",
    "y = data.target\n",
    "X_train , X_test , y_train , y_test = train_test_split(X ,y , test_size=0.25 , random_state=42)\n",
    "reg = LinearRegression()\n",
    "reg.fit(X_train , y_train)\n",
    "y_pred = reg.predict(X_test)\n",
    "r2 = r2_score(y_test , y_pred)\n",
    "print(f\"R2 score after combining : {r2}\")"
   ]
  },
  {
   "cell_type": "markdown",
   "id": "012875b5",
   "metadata": {
    "papermill": {
     "duration": 0.006614,
     "end_time": "2023-06-08T16:53:38.300798",
     "exception": false,
     "start_time": "2023-06-08T16:53:38.294184",
     "status": "completed"
    },
    "tags": []
   },
   "source": [
    "**We find that the r2 square value is not increasing so we stop here. the best performing subset has an r2 square value of 0.5112943322988956**"
   ]
  },
  {
   "cell_type": "markdown",
   "id": "44af7531",
   "metadata": {
    "papermill": {
     "duration": 0.00653,
     "end_time": "2023-06-08T16:53:38.314106",
     "exception": false,
     "start_time": "2023-06-08T16:53:38.307576",
     "status": "completed"
    },
    "tags": []
   },
   "source": [
    "# **Backward-Elimination**"
   ]
  },
  {
   "cell_type": "code",
   "execution_count": 15,
   "id": "c060a48e",
   "metadata": {
    "execution": {
     "iopub.execute_input": "2023-06-08T16:53:38.329329Z",
     "iopub.status.busy": "2023-06-08T16:53:38.328935Z",
     "iopub.status.idle": "2023-06-08T16:53:38.344734Z",
     "shell.execute_reply": "2023-06-08T16:53:38.343410Z"
    },
    "papermill": {
     "duration": 0.026019,
     "end_time": "2023-06-08T16:53:38.346818",
     "exception": false,
     "start_time": "2023-06-08T16:53:38.320799",
     "status": "completed"
    },
    "tags": []
   },
   "outputs": [
    {
     "name": "stdout",
     "output_type": "stream",
     "text": [
      "R2 score after combining : 0.4849058889476755\n"
     ]
    }
   ],
   "source": [
    "X = data.data\n",
    "y = data.target\n",
    "X_train , X_test , y_train , y_test = train_test_split(X ,y , test_size=0.25 , random_state=42)\n",
    "reg = LinearRegression()\n",
    "reg.fit(X_train , y_train)\n",
    "y_pred = reg.predict(X_test)\n",
    "r2 = r2_score(y_test , y_pred)\n",
    "print(f\"R2 score after combining : {r2}\")"
   ]
  },
  {
   "cell_type": "code",
   "execution_count": 16,
   "id": "9d2315a6",
   "metadata": {
    "execution": {
     "iopub.execute_input": "2023-06-08T16:53:38.362208Z",
     "iopub.status.busy": "2023-06-08T16:53:38.361817Z",
     "iopub.status.idle": "2023-06-08T16:53:38.372942Z",
     "shell.execute_reply": "2023-06-08T16:53:38.371786Z"
    },
    "papermill": {
     "duration": 0.021308,
     "end_time": "2023-06-08T16:53:38.374910",
     "exception": false,
     "start_time": "2023-06-08T16:53:38.353602",
     "status": "completed"
    },
    "tags": []
   },
   "outputs": [
    {
     "name": "stdout",
     "output_type": "stream",
     "text": [
      "R2 score after combining : 0.4705871168973681\n"
     ]
    }
   ],
   "source": [
    "selected_features = data.data.iloc[:, [8,2,7,3,9,6,4,5,0]]\n",
    "X = selected_features.values\n",
    "y = data.target\n",
    "X_train , X_test , y_train , y_test = train_test_split(X ,y , test_size=0.25 , random_state=42)\n",
    "reg = LinearRegression()\n",
    "reg.fit(X_train , y_train)\n",
    "y_pred = reg.predict(X_test)\n",
    "r2 = r2_score(y_test , y_pred)\n",
    "print(f\"R2 score after combining : {r2}\")"
   ]
  },
  {
   "cell_type": "code",
   "execution_count": 17,
   "id": "e9460b1c",
   "metadata": {
    "execution": {
     "iopub.execute_input": "2023-06-08T16:53:38.391097Z",
     "iopub.status.busy": "2023-06-08T16:53:38.390002Z",
     "iopub.status.idle": "2023-06-08T16:53:38.400670Z",
     "shell.execute_reply": "2023-06-08T16:53:38.399464Z"
    },
    "papermill": {
     "duration": 0.020955,
     "end_time": "2023-06-08T16:53:38.402712",
     "exception": false,
     "start_time": "2023-06-08T16:53:38.381757",
     "status": "completed"
    },
    "tags": []
   },
   "outputs": [
    {
     "name": "stdout",
     "output_type": "stream",
     "text": [
      "R2 score after combining : 0.47248980041817334\n"
     ]
    }
   ],
   "source": [
    "selected_features = data.data.iloc[:, [8,2,7,3,9,6,4,5]]\n",
    "X = selected_features.values\n",
    "y = data.target\n",
    "X_train , X_test , y_train , y_test = train_test_split(X ,y , test_size=0.25 , random_state=42)\n",
    "reg = LinearRegression()\n",
    "reg.fit(X_train , y_train)\n",
    "y_pred = reg.predict(X_test)\n",
    "r2 = r2_score(y_test , y_pred)\n",
    "print(f\"R2 score after combining : {r2}\")"
   ]
  },
  {
   "cell_type": "code",
   "execution_count": 18,
   "id": "905632bf",
   "metadata": {
    "execution": {
     "iopub.execute_input": "2023-06-08T16:53:38.419005Z",
     "iopub.status.busy": "2023-06-08T16:53:38.417984Z",
     "iopub.status.idle": "2023-06-08T16:53:38.429333Z",
     "shell.execute_reply": "2023-06-08T16:53:38.428411Z"
    },
    "papermill": {
     "duration": 0.021639,
     "end_time": "2023-06-08T16:53:38.431420",
     "exception": false,
     "start_time": "2023-06-08T16:53:38.409781",
     "status": "completed"
    },
    "tags": []
   },
   "outputs": [
    {
     "name": "stdout",
     "output_type": "stream",
     "text": [
      "R2 score after combining : 0.47492399586539447\n"
     ]
    }
   ],
   "source": [
    "selected_features = data.data.iloc[:, [8,2,7,3,9,6,4]]\n",
    "X = selected_features.values\n",
    "y = data.target\n",
    "X_train , X_test , y_train , y_test = train_test_split(X ,y , test_size=0.25 , random_state=42)\n",
    "reg = LinearRegression()\n",
    "reg.fit(X_train , y_train)\n",
    "y_pred = reg.predict(X_test)\n",
    "r2 = r2_score(y_test , y_pred)\n",
    "print(f\"R2 score after combining : {r2}\")"
   ]
  },
  {
   "cell_type": "code",
   "execution_count": 19,
   "id": "cc8f56aa",
   "metadata": {
    "execution": {
     "iopub.execute_input": "2023-06-08T16:53:38.447411Z",
     "iopub.status.busy": "2023-06-08T16:53:38.446663Z",
     "iopub.status.idle": "2023-06-08T16:53:38.458044Z",
     "shell.execute_reply": "2023-06-08T16:53:38.457063Z"
    },
    "papermill": {
     "duration": 0.02152,
     "end_time": "2023-06-08T16:53:38.459860",
     "exception": false,
     "start_time": "2023-06-08T16:53:38.438340",
     "status": "completed"
    },
    "tags": []
   },
   "outputs": [
    {
     "name": "stdout",
     "output_type": "stream",
     "text": [
      "R2 score after combining : 0.4782057877081908\n"
     ]
    }
   ],
   "source": [
    "selected_features = data.data.iloc[:, [8,2,7,3,9,6]]\n",
    "X = selected_features.values\n",
    "y = data.target\n",
    "X_train , X_test , y_train , y_test = train_test_split(X ,y , test_size=0.25 , random_state=42)\n",
    "reg = LinearRegression()\n",
    "reg.fit(X_train , y_train)\n",
    "y_pred = reg.predict(X_test)\n",
    "r2 = r2_score(y_test , y_pred)\n",
    "print(f\"R2 score after combining : {r2}\")"
   ]
  },
  {
   "cell_type": "code",
   "execution_count": 20,
   "id": "5386a777",
   "metadata": {
    "execution": {
     "iopub.execute_input": "2023-06-08T16:53:38.475773Z",
     "iopub.status.busy": "2023-06-08T16:53:38.475105Z",
     "iopub.status.idle": "2023-06-08T16:53:38.485440Z",
     "shell.execute_reply": "2023-06-08T16:53:38.484614Z"
    },
    "papermill": {
     "duration": 0.020803,
     "end_time": "2023-06-08T16:53:38.487619",
     "exception": false,
     "start_time": "2023-06-08T16:53:38.466816",
     "status": "completed"
    },
    "tags": []
   },
   "outputs": [
    {
     "name": "stdout",
     "output_type": "stream",
     "text": [
      "R2 score after combining : 0.4984370023711241\n"
     ]
    }
   ],
   "source": [
    "selected_features = data.data.iloc[:, [8,2,7,3,9]]\n",
    "X = selected_features.values\n",
    "y = data.target\n",
    "X_train , X_test , y_train , y_test = train_test_split(X ,y , test_size=0.25 , random_state=42)\n",
    "reg = LinearRegression()\n",
    "reg.fit(X_train , y_train)\n",
    "y_pred = reg.predict(X_test)\n",
    "r2 = r2_score(y_test , y_pred)\n",
    "print(f\"R2 score after combining : {r2}\")"
   ]
  },
  {
   "cell_type": "code",
   "execution_count": 21,
   "id": "32fdfb93",
   "metadata": {
    "execution": {
     "iopub.execute_input": "2023-06-08T16:53:38.503912Z",
     "iopub.status.busy": "2023-06-08T16:53:38.503349Z",
     "iopub.status.idle": "2023-06-08T16:53:38.512750Z",
     "shell.execute_reply": "2023-06-08T16:53:38.511724Z"
    },
    "papermill": {
     "duration": 0.020287,
     "end_time": "2023-06-08T16:53:38.515114",
     "exception": false,
     "start_time": "2023-06-08T16:53:38.494827",
     "status": "completed"
    },
    "tags": []
   },
   "outputs": [
    {
     "name": "stdout",
     "output_type": "stream",
     "text": [
      "R2 score after combining : 0.49776129259653035\n"
     ]
    }
   ],
   "source": [
    "selected_features = data.data.iloc[:, [8,2,7,3]]\n",
    "X = selected_features.values\n",
    "y = data.target\n",
    "X_train , X_test , y_train , y_test = train_test_split(X ,y , test_size=0.25 , random_state=42)\n",
    "reg = LinearRegression()\n",
    "reg.fit(X_train , y_train)\n",
    "y_pred = reg.predict(X_test)\n",
    "r2 = r2_score(y_test , y_pred)\n",
    "print(f\"R2 score after combining : {r2}\")"
   ]
  },
  {
   "cell_type": "code",
   "execution_count": 22,
   "id": "0d510262",
   "metadata": {
    "execution": {
     "iopub.execute_input": "2023-06-08T16:53:38.536883Z",
     "iopub.status.busy": "2023-06-08T16:53:38.535905Z",
     "iopub.status.idle": "2023-06-08T16:53:38.548440Z",
     "shell.execute_reply": "2023-06-08T16:53:38.547354Z"
    },
    "papermill": {
     "duration": 0.026394,
     "end_time": "2023-06-08T16:53:38.550738",
     "exception": false,
     "start_time": "2023-06-08T16:53:38.524344",
     "status": "completed"
    },
    "tags": []
   },
   "outputs": [
    {
     "name": "stdout",
     "output_type": "stream",
     "text": [
      "R2 score after combining : 0.5107349369399403\n"
     ]
    }
   ],
   "source": [
    "selected_features = data.data.iloc[:, [8,2,7]]\n",
    "X = selected_features.values\n",
    "y = data.target\n",
    "X_train , X_test , y_train , y_test = train_test_split(X ,y , test_size=0.25 , random_state=42)\n",
    "reg = LinearRegression()\n",
    "reg.fit(X_train , y_train)\n",
    "y_pred = reg.predict(X_test)\n",
    "r2 = r2_score(y_test , y_pred)\n",
    "print(f\"R2 score after combining : {r2}\")"
   ]
  },
  {
   "cell_type": "code",
   "execution_count": 23,
   "id": "2fa826b1",
   "metadata": {
    "execution": {
     "iopub.execute_input": "2023-06-08T16:53:38.572905Z",
     "iopub.status.busy": "2023-06-08T16:53:38.572544Z",
     "iopub.status.idle": "2023-06-08T16:53:38.584583Z",
     "shell.execute_reply": "2023-06-08T16:53:38.583305Z"
    },
    "papermill": {
     "duration": 0.024917,
     "end_time": "2023-06-08T16:53:38.587188",
     "exception": false,
     "start_time": "2023-06-08T16:53:38.562271",
     "status": "completed"
    },
    "tags": []
   },
   "outputs": [
    {
     "name": "stdout",
     "output_type": "stream",
     "text": [
      "R2 score after combining : 0.5112943322988956\n"
     ]
    }
   ],
   "source": [
    "selected_features = data.data.iloc[:, [8,2]]\n",
    "X = selected_features.values\n",
    "y = data.target\n",
    "X_train , X_test , y_train , y_test = train_test_split(X ,y , test_size=0.25 , random_state=42)\n",
    "reg = LinearRegression()\n",
    "reg.fit(X_train , y_train)\n",
    "y_pred = reg.predict(X_test)\n",
    "r2 = r2_score(y_test , y_pred)\n",
    "print(f\"R2 score after combining : {r2}\")"
   ]
  },
  {
   "cell_type": "markdown",
   "id": "d3afc4ce",
   "metadata": {
    "papermill": {
     "duration": 0.011616,
     "end_time": "2023-06-08T16:53:38.606978",
     "exception": false,
     "start_time": "2023-06-08T16:53:38.595362",
     "status": "completed"
    },
    "tags": []
   },
   "source": [
    "**We arrive to the same subset of features as forward-selection**"
   ]
  },
  {
   "cell_type": "markdown",
   "id": "83a4ac1e",
   "metadata": {
    "papermill": {
     "duration": 0.006967,
     "end_time": "2023-06-08T16:53:38.621403",
     "exception": false,
     "start_time": "2023-06-08T16:53:38.614436",
     "status": "completed"
    },
    "tags": []
   },
   "source": [
    "**Step-wise regression is a combination of both these approaches , both these approaches don't do feature selection only sequentially , but randomly also**"
   ]
  }
 ],
 "metadata": {
  "kernelspec": {
   "display_name": "Python 3",
   "language": "python",
   "name": "python3"
  },
  "language_info": {
   "codemirror_mode": {
    "name": "ipython",
    "version": 3
   },
   "file_extension": ".py",
   "mimetype": "text/x-python",
   "name": "python",
   "nbconvert_exporter": "python",
   "pygments_lexer": "ipython3",
   "version": "3.10.10"
  },
  "papermill": {
   "default_parameters": {},
   "duration": 13.046814,
   "end_time": "2023-06-08T16:53:39.551555",
   "environment_variables": {},
   "exception": null,
   "input_path": "__notebook__.ipynb",
   "output_path": "__notebook__.ipynb",
   "parameters": {},
   "start_time": "2023-06-08T16:53:26.504741",
   "version": "2.4.0"
  }
 },
 "nbformat": 4,
 "nbformat_minor": 5
}
