{
 "cells": [
  {
   "cell_type": "markdown",
   "id": "8e054771",
   "metadata": {
    "papermill": {
     "duration": 0.006494,
     "end_time": "2023-06-08T16:50:15.309182",
     "exception": false,
     "start_time": "2023-06-08T16:50:15.302688",
     "status": "completed"
    },
    "tags": []
   },
   "source": [
    "# **Step-Wise Regression**"
   ]
  },
  {
   "cell_type": "code",
   "execution_count": 1,
   "id": "4e365feb",
   "metadata": {
    "execution": {
     "iopub.execute_input": "2023-06-08T16:50:15.324307Z",
     "iopub.status.busy": "2023-06-08T16:50:15.323749Z",
     "iopub.status.idle": "2023-06-08T16:50:15.337213Z",
     "shell.execute_reply": "2023-06-08T16:50:15.335329Z"
    },
    "papermill": {
     "duration": 0.024335,
     "end_time": "2023-06-08T16:50:15.339889",
     "exception": false,
     "start_time": "2023-06-08T16:50:15.315554",
     "status": "completed"
    },
    "tags": []
   },
   "outputs": [],
   "source": [
    "import numpy as np\n",
    "import pandas as pd"
   ]
  },
  {
   "cell_type": "code",
   "execution_count": 2,
   "id": "d32064a0",
   "metadata": {
    "execution": {
     "iopub.execute_input": "2023-06-08T16:50:15.353857Z",
     "iopub.status.busy": "2023-06-08T16:50:15.353508Z",
     "iopub.status.idle": "2023-06-08T16:50:16.868084Z",
     "shell.execute_reply": "2023-06-08T16:50:16.867069Z"
    },
    "papermill": {
     "duration": 1.524503,
     "end_time": "2023-06-08T16:50:16.870621",
     "exception": false,
     "start_time": "2023-06-08T16:50:15.346118",
     "status": "completed"
    },
    "tags": []
   },
   "outputs": [],
   "source": [
    "from sklearn.datasets import load_diabetes\n",
    "data = load_diabetes()"
   ]
  },
  {
   "cell_type": "code",
   "execution_count": 3,
   "id": "44d90fdf",
   "metadata": {
    "execution": {
     "iopub.execute_input": "2023-06-08T16:50:16.885671Z",
     "iopub.status.busy": "2023-06-08T16:50:16.885310Z",
     "iopub.status.idle": "2023-06-08T16:50:16.892614Z",
     "shell.execute_reply": "2023-06-08T16:50:16.891481Z"
    },
    "papermill": {
     "duration": 0.018012,
     "end_time": "2023-06-08T16:50:16.894509",
     "exception": false,
     "start_time": "2023-06-08T16:50:16.876497",
     "status": "completed"
    },
    "tags": []
   },
   "outputs": [
    {
     "data": {
      "text/plain": [
       "dict_keys(['data', 'target', 'frame', 'DESCR', 'feature_names', 'data_filename', 'target_filename', 'data_module'])"
      ]
     },
     "execution_count": 3,
     "metadata": {},
     "output_type": "execute_result"
    }
   ],
   "source": [
    "data.keys()"
   ]
  },
  {
   "cell_type": "code",
   "execution_count": 4,
   "id": "8d829ddc",
   "metadata": {
    "execution": {
     "iopub.execute_input": "2023-06-08T16:50:16.908044Z",
     "iopub.status.busy": "2023-06-08T16:50:16.907630Z",
     "iopub.status.idle": "2023-06-08T16:50:17.148764Z",
     "shell.execute_reply": "2023-06-08T16:50:17.147195Z"
    },
    "papermill": {
     "duration": 0.251102,
     "end_time": "2023-06-08T16:50:17.151615",
     "exception": false,
     "start_time": "2023-06-08T16:50:16.900513",
     "status": "completed"
    },
    "tags": []
   },
   "outputs": [],
   "source": [
    "from sklearn.linear_model import LinearRegression\n",
    "from sklearn.metrics import r2_score\n",
    "from sklearn.model_selection import train_test_split"
   ]
  },
  {
   "cell_type": "code",
   "execution_count": 5,
   "id": "cc128721",
   "metadata": {
    "execution": {
     "iopub.execute_input": "2023-06-08T16:50:17.165688Z",
     "iopub.status.busy": "2023-06-08T16:50:17.164838Z",
     "iopub.status.idle": "2023-06-08T16:50:17.170796Z",
     "shell.execute_reply": "2023-06-08T16:50:17.169312Z"
    },
    "papermill": {
     "duration": 0.016685,
     "end_time": "2023-06-08T16:50:17.174343",
     "exception": false,
     "start_time": "2023-06-08T16:50:17.157658",
     "status": "completed"
    },
    "tags": []
   },
   "outputs": [],
   "source": [
    "r2_scores = {}"
   ]
  },
  {
   "cell_type": "code",
   "execution_count": 6,
   "id": "be33507e",
   "metadata": {
    "execution": {
     "iopub.execute_input": "2023-06-08T16:50:17.188628Z",
     "iopub.status.busy": "2023-06-08T16:50:17.188251Z",
     "iopub.status.idle": "2023-06-08T16:50:17.223682Z",
     "shell.execute_reply": "2023-06-08T16:50:17.222452Z"
    },
    "papermill": {
     "duration": 0.045336,
     "end_time": "2023-06-08T16:50:17.226068",
     "exception": false,
     "start_time": "2023-06-08T16:50:17.180732",
     "status": "completed"
    },
    "tags": []
   },
   "outputs": [],
   "source": [
    "for feature in range (len(data.feature_names)):\n",
    "    X = data.data[:,feature]\n",
    "    y = data.target\n",
    "    X_train , X_test , y_train , y_test = train_test_split(X ,y , test_size=0.25 , random_state=42)\n",
    "    X_train = np.array(X_train).reshape(-1, 1)\n",
    "    X_test = np.array(X_test).reshape(-1, 1)\n",
    "    reg = LinearRegression()\n",
    "    reg.fit(X_train , y_train)\n",
    "    y_pred = reg.predict(X_test)\n",
    "    r2 = r2_score(y_test , y_pred)\n",
    "    r2_scores.update({f\"{feature}\": f\"{r2}\"})"
   ]
  },
  {
   "cell_type": "code",
   "execution_count": 7,
   "id": "187da223",
   "metadata": {
    "execution": {
     "iopub.execute_input": "2023-06-08T16:50:17.239961Z",
     "iopub.status.busy": "2023-06-08T16:50:17.239565Z",
     "iopub.status.idle": "2023-06-08T16:50:17.247206Z",
     "shell.execute_reply": "2023-06-08T16:50:17.246098Z"
    },
    "papermill": {
     "duration": 0.017302,
     "end_time": "2023-06-08T16:50:17.249540",
     "exception": false,
     "start_time": "2023-06-08T16:50:17.232238",
     "status": "completed"
    },
    "tags": []
   },
   "outputs": [
    {
     "data": {
      "text/plain": [
       "{'0': '0.008637038226036675',\n",
       " '1': '-0.01029825562499287',\n",
       " '2': '0.3172099449537781',\n",
       " '3': '0.18471383018307064',\n",
       " '4': '0.06626553266368607',\n",
       " '5': '0.04163111831069033',\n",
       " '6': '0.1377356557444941',\n",
       " '7': '0.19257590747667053',\n",
       " '8': '0.4215743297548834',\n",
       " '9': '0.16593419294983636'}"
      ]
     },
     "execution_count": 7,
     "metadata": {},
     "output_type": "execute_result"
    }
   ],
   "source": [
    "r2_scores"
   ]
  },
  {
   "cell_type": "code",
   "execution_count": 8,
   "id": "f0b64472",
   "metadata": {
    "execution": {
     "iopub.execute_input": "2023-06-08T16:50:17.264413Z",
     "iopub.status.busy": "2023-06-08T16:50:17.263328Z",
     "iopub.status.idle": "2023-06-08T16:50:17.270519Z",
     "shell.execute_reply": "2023-06-08T16:50:17.269147Z"
    },
    "papermill": {
     "duration": 0.016937,
     "end_time": "2023-06-08T16:50:17.272640",
     "exception": false,
     "start_time": "2023-06-08T16:50:17.255703",
     "status": "completed"
    },
    "tags": []
   },
   "outputs": [
    {
     "name": "stdout",
     "output_type": "stream",
     "text": [
      "('8', '0.4215743297548834')\n",
      "('2', '0.3172099449537781')\n",
      "('7', '0.19257590747667053')\n",
      "('3', '0.18471383018307064')\n",
      "('9', '0.16593419294983636')\n",
      "('6', '0.1377356557444941')\n",
      "('4', '0.06626553266368607')\n",
      "('5', '0.04163111831069033')\n",
      "('0', '0.008637038226036675')\n",
      "('1', '-0.01029825562499287')\n"
     ]
    }
   ],
   "source": [
    "sorted_dict = sorted(r2_scores.items(), key=lambda x:x[1] , reverse=True)\n",
    "for feature in sorted_dict:\n",
    "    print(feature)\n"
   ]
  },
  {
   "cell_type": "code",
   "execution_count": 9,
   "id": "0cd2a635",
   "metadata": {
    "execution": {
     "iopub.execute_input": "2023-06-08T16:50:17.287525Z",
     "iopub.status.busy": "2023-06-08T16:50:17.286155Z",
     "iopub.status.idle": "2023-06-08T16:50:17.291861Z",
     "shell.execute_reply": "2023-06-08T16:50:17.290892Z"
    },
    "papermill": {
     "duration": 0.01579,
     "end_time": "2023-06-08T16:50:17.294629",
     "exception": false,
     "start_time": "2023-06-08T16:50:17.278839",
     "status": "completed"
    },
    "tags": []
   },
   "outputs": [],
   "source": [
    "feature_idx = [8,2,7,3,9,6,4,5,0,1]"
   ]
  },
  {
   "cell_type": "code",
   "execution_count": 10,
   "id": "3608fad0",
   "metadata": {
    "execution": {
     "iopub.execute_input": "2023-06-08T16:50:17.308786Z",
     "iopub.status.busy": "2023-06-08T16:50:17.308436Z",
     "iopub.status.idle": "2023-06-08T16:50:17.333034Z",
     "shell.execute_reply": "2023-06-08T16:50:17.332031Z"
    },
    "papermill": {
     "duration": 0.034553,
     "end_time": "2023-06-08T16:50:17.335476",
     "exception": false,
     "start_time": "2023-06-08T16:50:17.300923",
     "status": "completed"
    },
    "tags": []
   },
   "outputs": [],
   "source": [
    "data = load_diabetes(as_frame=True)"
   ]
  },
  {
   "cell_type": "markdown",
   "id": "01d7b39f",
   "metadata": {
    "papermill": {
     "duration": 0.005913,
     "end_time": "2023-06-08T16:50:17.347801",
     "exception": false,
     "start_time": "2023-06-08T16:50:17.341888",
     "status": "completed"
    },
    "tags": []
   },
   "source": [
    "# **Forward-Selection**"
   ]
  },
  {
   "cell_type": "code",
   "execution_count": 11,
   "id": "7204b56b",
   "metadata": {
    "execution": {
     "iopub.execute_input": "2023-06-08T16:50:17.362121Z",
     "iopub.status.busy": "2023-06-08T16:50:17.361563Z",
     "iopub.status.idle": "2023-06-08T16:50:17.366509Z",
     "shell.execute_reply": "2023-06-08T16:50:17.365670Z"
    },
    "papermill": {
     "duration": 0.014203,
     "end_time": "2023-06-08T16:50:17.368241",
     "exception": false,
     "start_time": "2023-06-08T16:50:17.354038",
     "status": "completed"
    },
    "tags": []
   },
   "outputs": [],
   "source": [
    "selected_features = data.data.iloc[:, [8,2]]\n",
    "X = selected_features.values\n",
    "y = data.target"
   ]
  },
  {
   "cell_type": "code",
   "execution_count": 12,
   "id": "8966ce2b",
   "metadata": {
    "execution": {
     "iopub.execute_input": "2023-06-08T16:50:17.382321Z",
     "iopub.status.busy": "2023-06-08T16:50:17.382004Z",
     "iopub.status.idle": "2023-06-08T16:50:17.403793Z",
     "shell.execute_reply": "2023-06-08T16:50:17.402928Z"
    },
    "papermill": {
     "duration": 0.031346,
     "end_time": "2023-06-08T16:50:17.405868",
     "exception": false,
     "start_time": "2023-06-08T16:50:17.374522",
     "status": "completed"
    },
    "tags": []
   },
   "outputs": [
    {
     "name": "stdout",
     "output_type": "stream",
     "text": [
      "R2 score after combining : 0.5112943322988956\n"
     ]
    }
   ],
   "source": [
    "X_train , X_test , y_train , y_test = train_test_split(X ,y , test_size=0.25 , random_state=42)\n",
    "reg = LinearRegression()\n",
    "reg.fit(X_train , y_train)\n",
    "y_pred = reg.predict(X_test)\n",
    "r2 = r2_score(y_test , y_pred)\n",
    "print(f\"R2 score after combining : {r2}\")"
   ]
  },
  {
   "cell_type": "code",
   "execution_count": 13,
   "id": "66d95cd0",
   "metadata": {
    "execution": {
     "iopub.execute_input": "2023-06-08T16:50:17.420276Z",
     "iopub.status.busy": "2023-06-08T16:50:17.419905Z",
     "iopub.status.idle": "2023-06-08T16:50:17.431433Z",
     "shell.execute_reply": "2023-06-08T16:50:17.430109Z"
    },
    "papermill": {
     "duration": 0.022014,
     "end_time": "2023-06-08T16:50:17.434176",
     "exception": false,
     "start_time": "2023-06-08T16:50:17.412162",
     "status": "completed"
    },
    "tags": []
   },
   "outputs": [
    {
     "name": "stdout",
     "output_type": "stream",
     "text": [
      "R2 score after combining : 0.5107349369399403\n"
     ]
    }
   ],
   "source": [
    "selected_features = data.data.iloc[:, [8,2,7]]\n",
    "X = selected_features.values\n",
    "y = data.target\n",
    "X_train , X_test , y_train , y_test = train_test_split(X ,y , test_size=0.25 , random_state=42)\n",
    "reg = LinearRegression()\n",
    "reg.fit(X_train , y_train)\n",
    "y_pred = reg.predict(X_test)\n",
    "r2 = r2_score(y_test , y_pred)\n",
    "print(f\"R2 score after combining : {r2}\")"
   ]
  },
  {
   "cell_type": "code",
   "execution_count": 14,
   "id": "c4b16762",
   "metadata": {
    "execution": {
     "iopub.execute_input": "2023-06-08T16:50:17.449326Z",
     "iopub.status.busy": "2023-06-08T16:50:17.448943Z",
     "iopub.status.idle": "2023-06-08T16:50:17.459621Z",
     "shell.execute_reply": "2023-06-08T16:50:17.458135Z"
    },
    "papermill": {
     "duration": 0.021346,
     "end_time": "2023-06-08T16:50:17.462033",
     "exception": false,
     "start_time": "2023-06-08T16:50:17.440687",
     "status": "completed"
    },
    "tags": []
   },
   "outputs": [
    {
     "name": "stdout",
     "output_type": "stream",
     "text": [
      "R2 score after combining : 0.49776129259653035\n"
     ]
    }
   ],
   "source": [
    "selected_features = data.data.iloc[:, [8,2,7,3]]\n",
    "X = selected_features.values\n",
    "y = data.target\n",
    "X_train , X_test , y_train , y_test = train_test_split(X ,y , test_size=0.25 , random_state=42)\n",
    "reg = LinearRegression()\n",
    "reg.fit(X_train , y_train)\n",
    "y_pred = reg.predict(X_test)\n",
    "r2 = r2_score(y_test , y_pred)\n",
    "print(f\"R2 score after combining : {r2}\")"
   ]
  },
  {
   "cell_type": "markdown",
   "id": "dd78c458",
   "metadata": {
    "papermill": {
     "duration": 0.006229,
     "end_time": "2023-06-08T16:50:17.474941",
     "exception": false,
     "start_time": "2023-06-08T16:50:17.468712",
     "status": "completed"
    },
    "tags": []
   },
   "source": [
    "**We find that the r2 square value is not increasing so we stop here.**"
   ]
  },
  {
   "cell_type": "markdown",
   "id": "b1b7f540",
   "metadata": {
    "papermill": {
     "duration": 0.006185,
     "end_time": "2023-06-08T16:50:17.487621",
     "exception": false,
     "start_time": "2023-06-08T16:50:17.481436",
     "status": "completed"
    },
    "tags": []
   },
   "source": [
    "# **Backward-Elimination**"
   ]
  },
  {
   "cell_type": "code",
   "execution_count": 15,
   "id": "e6f4e11e",
   "metadata": {
    "execution": {
     "iopub.execute_input": "2023-06-08T16:50:17.502704Z",
     "iopub.status.busy": "2023-06-08T16:50:17.502140Z",
     "iopub.status.idle": "2023-06-08T16:50:17.516953Z",
     "shell.execute_reply": "2023-06-08T16:50:17.515732Z"
    },
    "papermill": {
     "duration": 0.02462,
     "end_time": "2023-06-08T16:50:17.518712",
     "exception": false,
     "start_time": "2023-06-08T16:50:17.494092",
     "status": "completed"
    },
    "tags": []
   },
   "outputs": [
    {
     "name": "stdout",
     "output_type": "stream",
     "text": [
      "R2 score after combining : 0.4849058889476755\n"
     ]
    }
   ],
   "source": [
    "X = data.data\n",
    "y = data.target\n",
    "X_train , X_test , y_train , y_test = train_test_split(X ,y , test_size=0.25 , random_state=42)\n",
    "reg = LinearRegression()\n",
    "reg.fit(X_train , y_train)\n",
    "y_pred = reg.predict(X_test)\n",
    "r2 = r2_score(y_test , y_pred)\n",
    "print(f\"R2 score after combining : {r2}\")"
   ]
  },
  {
   "cell_type": "code",
   "execution_count": 16,
   "id": "c0a90b5c",
   "metadata": {
    "execution": {
     "iopub.execute_input": "2023-06-08T16:50:17.532911Z",
     "iopub.status.busy": "2023-06-08T16:50:17.532392Z",
     "iopub.status.idle": "2023-06-08T16:50:17.542056Z",
     "shell.execute_reply": "2023-06-08T16:50:17.540943Z"
    },
    "papermill": {
     "duration": 0.018906,
     "end_time": "2023-06-08T16:50:17.543907",
     "exception": false,
     "start_time": "2023-06-08T16:50:17.525001",
     "status": "completed"
    },
    "tags": []
   },
   "outputs": [
    {
     "name": "stdout",
     "output_type": "stream",
     "text": [
      "R2 score after combining : 0.4705871168973681\n"
     ]
    }
   ],
   "source": [
    "selected_features = data.data.iloc[:, [8,2,7,3,9,6,4,5,0]]\n",
    "X = selected_features.values\n",
    "y = data.target\n",
    "X_train , X_test , y_train , y_test = train_test_split(X ,y , test_size=0.25 , random_state=42)\n",
    "reg = LinearRegression()\n",
    "reg.fit(X_train , y_train)\n",
    "y_pred = reg.predict(X_test)\n",
    "r2 = r2_score(y_test , y_pred)\n",
    "print(f\"R2 score after combining : {r2}\")"
   ]
  },
  {
   "cell_type": "code",
   "execution_count": 17,
   "id": "41cc2b09",
   "metadata": {
    "execution": {
     "iopub.execute_input": "2023-06-08T16:50:17.558270Z",
     "iopub.status.busy": "2023-06-08T16:50:17.557750Z",
     "iopub.status.idle": "2023-06-08T16:50:17.568255Z",
     "shell.execute_reply": "2023-06-08T16:50:17.566749Z"
    },
    "papermill": {
     "duration": 0.020685,
     "end_time": "2023-06-08T16:50:17.570843",
     "exception": false,
     "start_time": "2023-06-08T16:50:17.550158",
     "status": "completed"
    },
    "tags": []
   },
   "outputs": [
    {
     "name": "stdout",
     "output_type": "stream",
     "text": [
      "R2 score after combining : 0.47248980041817334\n"
     ]
    }
   ],
   "source": [
    "selected_features = data.data.iloc[:, [8,2,7,3,9,6,4,5]]\n",
    "X = selected_features.values\n",
    "y = data.target\n",
    "X_train , X_test , y_train , y_test = train_test_split(X ,y , test_size=0.25 , random_state=42)\n",
    "reg = LinearRegression()\n",
    "reg.fit(X_train , y_train)\n",
    "y_pred = reg.predict(X_test)\n",
    "r2 = r2_score(y_test , y_pred)\n",
    "print(f\"R2 score after combining : {r2}\")"
   ]
  },
  {
   "cell_type": "code",
   "execution_count": 18,
   "id": "4f0bef08",
   "metadata": {
    "execution": {
     "iopub.execute_input": "2023-06-08T16:50:17.586603Z",
     "iopub.status.busy": "2023-06-08T16:50:17.586287Z",
     "iopub.status.idle": "2023-06-08T16:50:17.596953Z",
     "shell.execute_reply": "2023-06-08T16:50:17.595924Z"
    },
    "papermill": {
     "duration": 0.020428,
     "end_time": "2023-06-08T16:50:17.598707",
     "exception": false,
     "start_time": "2023-06-08T16:50:17.578279",
     "status": "completed"
    },
    "tags": []
   },
   "outputs": [
    {
     "name": "stdout",
     "output_type": "stream",
     "text": [
      "R2 score after combining : 0.47492399586539447\n"
     ]
    }
   ],
   "source": [
    "selected_features = data.data.iloc[:, [8,2,7,3,9,6,4]]\n",
    "X = selected_features.values\n",
    "y = data.target\n",
    "X_train , X_test , y_train , y_test = train_test_split(X ,y , test_size=0.25 , random_state=42)\n",
    "reg = LinearRegression()\n",
    "reg.fit(X_train , y_train)\n",
    "y_pred = reg.predict(X_test)\n",
    "r2 = r2_score(y_test , y_pred)\n",
    "print(f\"R2 score after combining : {r2}\")"
   ]
  },
  {
   "cell_type": "code",
   "execution_count": 19,
   "id": "a4889fc9",
   "metadata": {
    "execution": {
     "iopub.execute_input": "2023-06-08T16:50:17.613240Z",
     "iopub.status.busy": "2023-06-08T16:50:17.612716Z",
     "iopub.status.idle": "2023-06-08T16:50:17.622447Z",
     "shell.execute_reply": "2023-06-08T16:50:17.621039Z"
    },
    "papermill": {
     "duration": 0.020172,
     "end_time": "2023-06-08T16:50:17.625321",
     "exception": false,
     "start_time": "2023-06-08T16:50:17.605149",
     "status": "completed"
    },
    "tags": []
   },
   "outputs": [
    {
     "name": "stdout",
     "output_type": "stream",
     "text": [
      "R2 score after combining : 0.4782057877081908\n"
     ]
    }
   ],
   "source": [
    "selected_features = data.data.iloc[:, [8,2,7,3,9,6]]\n",
    "X = selected_features.values\n",
    "y = data.target\n",
    "X_train , X_test , y_train , y_test = train_test_split(X ,y , test_size=0.25 , random_state=42)\n",
    "reg = LinearRegression()\n",
    "reg.fit(X_train , y_train)\n",
    "y_pred = reg.predict(X_test)\n",
    "r2 = r2_score(y_test , y_pred)\n",
    "print(f\"R2 score after combining : {r2}\")"
   ]
  },
  {
   "cell_type": "code",
   "execution_count": 20,
   "id": "f6bb088b",
   "metadata": {
    "execution": {
     "iopub.execute_input": "2023-06-08T16:50:17.642166Z",
     "iopub.status.busy": "2023-06-08T16:50:17.641317Z",
     "iopub.status.idle": "2023-06-08T16:50:17.652653Z",
     "shell.execute_reply": "2023-06-08T16:50:17.651430Z"
    },
    "papermill": {
     "duration": 0.023589,
     "end_time": "2023-06-08T16:50:17.655865",
     "exception": false,
     "start_time": "2023-06-08T16:50:17.632276",
     "status": "completed"
    },
    "tags": []
   },
   "outputs": [
    {
     "name": "stdout",
     "output_type": "stream",
     "text": [
      "R2 score after combining : 0.4984370023711241\n"
     ]
    }
   ],
   "source": [
    "selected_features = data.data.iloc[:, [8,2,7,3,9]]\n",
    "X = selected_features.values\n",
    "y = data.target\n",
    "X_train , X_test , y_train , y_test = train_test_split(X ,y , test_size=0.25 , random_state=42)\n",
    "reg = LinearRegression()\n",
    "reg.fit(X_train , y_train)\n",
    "y_pred = reg.predict(X_test)\n",
    "r2 = r2_score(y_test , y_pred)\n",
    "print(f\"R2 score after combining : {r2}\")"
   ]
  },
  {
   "cell_type": "code",
   "execution_count": 21,
   "id": "d46902bb",
   "metadata": {
    "execution": {
     "iopub.execute_input": "2023-06-08T16:50:17.671425Z",
     "iopub.status.busy": "2023-06-08T16:50:17.670659Z",
     "iopub.status.idle": "2023-06-08T16:50:17.680037Z",
     "shell.execute_reply": "2023-06-08T16:50:17.678715Z"
    },
    "papermill": {
     "duration": 0.018904,
     "end_time": "2023-06-08T16:50:17.681850",
     "exception": false,
     "start_time": "2023-06-08T16:50:17.662946",
     "status": "completed"
    },
    "tags": []
   },
   "outputs": [
    {
     "name": "stdout",
     "output_type": "stream",
     "text": [
      "R2 score after combining : 0.49776129259653035\n"
     ]
    }
   ],
   "source": [
    "selected_features = data.data.iloc[:, [8,2,7,3]]\n",
    "X = selected_features.values\n",
    "y = data.target\n",
    "X_train , X_test , y_train , y_test = train_test_split(X ,y , test_size=0.25 , random_state=42)\n",
    "reg = LinearRegression()\n",
    "reg.fit(X_train , y_train)\n",
    "y_pred = reg.predict(X_test)\n",
    "r2 = r2_score(y_test , y_pred)\n",
    "print(f\"R2 score after combining : {r2}\")"
   ]
  },
  {
   "cell_type": "code",
   "execution_count": 22,
   "id": "d17cc932",
   "metadata": {
    "execution": {
     "iopub.execute_input": "2023-06-08T16:50:17.697319Z",
     "iopub.status.busy": "2023-06-08T16:50:17.696050Z",
     "iopub.status.idle": "2023-06-08T16:50:17.707498Z",
     "shell.execute_reply": "2023-06-08T16:50:17.705482Z"
    },
    "papermill": {
     "duration": 0.021166,
     "end_time": "2023-06-08T16:50:17.709626",
     "exception": false,
     "start_time": "2023-06-08T16:50:17.688460",
     "status": "completed"
    },
    "tags": []
   },
   "outputs": [
    {
     "name": "stdout",
     "output_type": "stream",
     "text": [
      "R2 score after combining : 0.5107349369399403\n"
     ]
    }
   ],
   "source": [
    "selected_features = data.data.iloc[:, [8,2,7]]\n",
    "X = selected_features.values\n",
    "y = data.target\n",
    "X_train , X_test , y_train , y_test = train_test_split(X ,y , test_size=0.25 , random_state=42)\n",
    "reg = LinearRegression()\n",
    "reg.fit(X_train , y_train)\n",
    "y_pred = reg.predict(X_test)\n",
    "r2 = r2_score(y_test , y_pred)\n",
    "print(f\"R2 score after combining : {r2}\")"
   ]
  },
  {
   "cell_type": "code",
   "execution_count": 23,
   "id": "da8f2505",
   "metadata": {
    "execution": {
     "iopub.execute_input": "2023-06-08T16:50:17.724951Z",
     "iopub.status.busy": "2023-06-08T16:50:17.724571Z",
     "iopub.status.idle": "2023-06-08T16:50:17.736114Z",
     "shell.execute_reply": "2023-06-08T16:50:17.735126Z"
    },
    "papermill": {
     "duration": 0.021585,
     "end_time": "2023-06-08T16:50:17.738174",
     "exception": false,
     "start_time": "2023-06-08T16:50:17.716589",
     "status": "completed"
    },
    "tags": []
   },
   "outputs": [
    {
     "name": "stdout",
     "output_type": "stream",
     "text": [
      "R2 score after combining : 0.5112943322988956\n"
     ]
    }
   ],
   "source": [
    "selected_features = data.data.iloc[:, [8,2]]\n",
    "X = selected_features.values\n",
    "y = data.target\n",
    "X_train , X_test , y_train , y_test = train_test_split(X ,y , test_size=0.25 , random_state=42)\n",
    "reg = LinearRegression()\n",
    "reg.fit(X_train , y_train)\n",
    "y_pred = reg.predict(X_test)\n",
    "r2 = r2_score(y_test , y_pred)\n",
    "print(f\"R2 score after combining : {r2}\")"
   ]
  },
  {
   "cell_type": "markdown",
   "id": "e5a6d137",
   "metadata": {
    "papermill": {
     "duration": 0.006388,
     "end_time": "2023-06-08T16:50:17.751401",
     "exception": false,
     "start_time": "2023-06-08T16:50:17.745013",
     "status": "completed"
    },
    "tags": []
   },
   "source": [
    "**We arrive to the same subset of features as forward-selection**"
   ]
  },
  {
   "cell_type": "markdown",
   "id": "1f9a8f0b",
   "metadata": {
    "papermill": {
     "duration": 0.00617,
     "end_time": "2023-06-08T16:50:17.764019",
     "exception": false,
     "start_time": "2023-06-08T16:50:17.757849",
     "status": "completed"
    },
    "tags": []
   },
   "source": [
    "**Step-wise regression is a combination of both these approaches , both these approaches don't do feature selection only sequentially , but randomly also**"
   ]
  }
 ],
 "metadata": {
  "kernelspec": {
   "display_name": "Python 3",
   "language": "python",
   "name": "python3"
  },
  "language_info": {
   "codemirror_mode": {
    "name": "ipython",
    "version": 3
   },
   "file_extension": ".py",
   "mimetype": "text/x-python",
   "name": "python",
   "nbconvert_exporter": "python",
   "pygments_lexer": "ipython3",
   "version": "3.10.10"
  },
  "papermill": {
   "default_parameters": {},
   "duration": 13.74544,
   "end_time": "2023-06-08T16:50:18.791136",
   "environment_variables": {},
   "exception": null,
   "input_path": "__notebook__.ipynb",
   "output_path": "__notebook__.ipynb",
   "parameters": {},
   "start_time": "2023-06-08T16:50:05.045696",
   "version": "2.4.0"
  }
 },
 "nbformat": 4,
 "nbformat_minor": 5
}
